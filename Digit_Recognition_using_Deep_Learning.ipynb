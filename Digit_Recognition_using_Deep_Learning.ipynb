{
  "nbformat": 4,
  "nbformat_minor": 0,
  "metadata": {
    "colab": {
      "name": "Digit Recognition using Deep Learning.ipynb",
      "provenance": [],
      "authorship_tag": "ABX9TyOeZ0JXIa5iSl5Se1DPBhYh",
      "include_colab_link": true
    },
    "kernelspec": {
      "name": "python3",
      "display_name": "Python 3"
    },
    "language_info": {
      "name": "python"
    }
  },
  "cells": [
    {
      "cell_type": "markdown",
      "metadata": {
        "id": "view-in-github",
        "colab_type": "text"
      },
      "source": [
        "<a href=\"https://colab.research.google.com/github/MeghaKanojia/Digit-Recognition/blob/main/Digit_Recognition_using_Deep_Learning.ipynb\" target=\"_parent\"><img src=\"https://colab.research.google.com/assets/colab-badge.svg\" alt=\"Open In Colab\"/></a>"
      ]
    },
    {
      "cell_type": "code",
      "metadata": {
        "id": "HC6P0HNdGWjY"
      },
      "source": [
        "from keras.datasets import mnist\n",
        "data = mnist.load_data()"
      ],
      "execution_count": 58,
      "outputs": []
    },
    {
      "cell_type": "code",
      "metadata": {
        "id": "lnA5dFIwGtEC"
      },
      "source": [
        "(X_train,y_train),(X_test,y_test) = data"
      ],
      "execution_count": 59,
      "outputs": []
    },
    {
      "cell_type": "code",
      "metadata": {
        "colab": {
          "base_uri": "https://localhost:8080/"
        },
        "id": "J3EOjIDnK-7t",
        "outputId": "c7ca688e-ea53-49f0-c5ef-838ac38434c6"
      },
      "source": [
        "X_train[0].shape"
      ],
      "execution_count": 60,
      "outputs": [
        {
          "output_type": "execute_result",
          "data": {
            "text/plain": [
              "(28, 28)"
            ]
          },
          "metadata": {
            "tags": []
          },
          "execution_count": 60
        }
      ]
    },
    {
      "cell_type": "code",
      "metadata": {
        "colab": {
          "base_uri": "https://localhost:8080/"
        },
        "id": "BdczWGjXKcfJ",
        "outputId": "d2655719-3834-46c0-b9e7-2f9b78012efe"
      },
      "source": [
        "X_train.shape"
      ],
      "execution_count": 61,
      "outputs": [
        {
          "output_type": "execute_result",
          "data": {
            "text/plain": [
              "(60000, 28, 28)"
            ]
          },
          "metadata": {
            "tags": []
          },
          "execution_count": 61
        }
      ]
    },
    {
      "cell_type": "code",
      "metadata": {
        "colab": {
          "base_uri": "https://localhost:8080/"
        },
        "id": "bQ9_sgGBdTTl",
        "outputId": "690e2a08-168c-44dd-ec29-e0f9b5578003"
      },
      "source": [
        "X_test.shape"
      ],
      "execution_count": 62,
      "outputs": [
        {
          "output_type": "execute_result",
          "data": {
            "text/plain": [
              "(10000, 28, 28)"
            ]
          },
          "metadata": {
            "tags": []
          },
          "execution_count": 62
        }
      ]
    },
    {
      "cell_type": "code",
      "metadata": {
        "id": "Y9eSoVHjHVpx"
      },
      "source": [
        "X_train = X_train.reshape((X_train.shape[0],28*28)).astype('float32')\n",
        "X_test = X_test.reshape((X_test.shape[0],28*28)).astype('float32')"
      ],
      "execution_count": 63,
      "outputs": []
    },
    {
      "cell_type": "code",
      "metadata": {
        "colab": {
          "base_uri": "https://localhost:8080/"
        },
        "id": "thTO6wlPH6Xm",
        "outputId": "aef5c426-797e-4ae2-836b-5e5513e00217"
      },
      "source": [
        "X_train[0].shape"
      ],
      "execution_count": 64,
      "outputs": [
        {
          "output_type": "execute_result",
          "data": {
            "text/plain": [
              "(784,)"
            ]
          },
          "metadata": {
            "tags": []
          },
          "execution_count": 64
        }
      ]
    },
    {
      "cell_type": "code",
      "metadata": {
        "id": "48_EXxLNKV_S"
      },
      "source": [
        "X_train = X_train/255\n",
        "X_test = X_test/255"
      ],
      "execution_count": 65,
      "outputs": []
    },
    {
      "cell_type": "code",
      "metadata": {
        "colab": {
          "base_uri": "https://localhost:8080/"
        },
        "id": "QmNQxD9qMQnT",
        "outputId": "10977ee4-9000-4f05-9f4c-85634a865c96"
      },
      "source": [
        "y_train"
      ],
      "execution_count": 66,
      "outputs": [
        {
          "output_type": "execute_result",
          "data": {
            "text/plain": [
              "array([5, 0, 4, ..., 5, 6, 8], dtype=uint8)"
            ]
          },
          "metadata": {
            "tags": []
          },
          "execution_count": 66
        }
      ]
    },
    {
      "cell_type": "code",
      "metadata": {
        "id": "CyJuMF5wLaOt"
      },
      "source": [
        "from keras.utils import np_utils\n",
        "\n",
        "y_train = np_utils.to_categorical(y_train)\n",
        "y_test = np_utils.to_categorical(y_test)"
      ],
      "execution_count": 67,
      "outputs": []
    },
    {
      "cell_type": "code",
      "metadata": {
        "colab": {
          "base_uri": "https://localhost:8080/"
        },
        "id": "xE984HETLcI4",
        "outputId": "4f771ae8-10ec-44be-b18f-bc88e3b6907e"
      },
      "source": [
        "y_train"
      ],
      "execution_count": 68,
      "outputs": [
        {
          "output_type": "execute_result",
          "data": {
            "text/plain": [
              "array([[0., 0., 0., ..., 0., 0., 0.],\n",
              "       [1., 0., 0., ..., 0., 0., 0.],\n",
              "       [0., 0., 0., ..., 0., 0., 0.],\n",
              "       ...,\n",
              "       [0., 0., 0., ..., 0., 0., 0.],\n",
              "       [0., 0., 0., ..., 0., 0., 0.],\n",
              "       [0., 0., 0., ..., 0., 1., 0.]], dtype=float32)"
            ]
          },
          "metadata": {
            "tags": []
          },
          "execution_count": 68
        }
      ]
    },
    {
      "cell_type": "code",
      "metadata": {
        "colab": {
          "base_uri": "https://localhost:8080/"
        },
        "id": "NgYyfld4Me_9",
        "outputId": "a1751b75-0770-420c-d354-56c57ea4146f"
      },
      "source": [
        "num_classes = y_test.shape[1]\n",
        "num_classes"
      ],
      "execution_count": 69,
      "outputs": [
        {
          "output_type": "execute_result",
          "data": {
            "text/plain": [
              "10"
            ]
          },
          "metadata": {
            "tags": []
          },
          "execution_count": 69
        }
      ]
    },
    {
      "cell_type": "code",
      "metadata": {
        "id": "tHZ_-O5GMtdD"
      },
      "source": [
        "from keras.models import Sequential\n",
        "from keras.layers import Dense"
      ],
      "execution_count": 70,
      "outputs": []
    },
    {
      "cell_type": "code",
      "metadata": {
        "id": "GuGV6ZvUY1K-"
      },
      "source": [
        "model = Sequential()\n",
        "\n",
        "model.add(Dense(32 , input_dim = 28*28, activation= 'relu'))\n",
        "\n",
        "model.add(Dense(64, activation= 'relu'))\n",
        "\n",
        "model.add(Dense(10, activation='softmax'))"
      ],
      "execution_count": 71,
      "outputs": []
    },
    {
      "cell_type": "code",
      "metadata": {
        "id": "0dEpBLpEZxmF"
      },
      "source": [
        "model.compile(loss = 'categorical_crossentropy',optimizer = 'adam', metrics = ['accuracy'])"
      ],
      "execution_count": 72,
      "outputs": []
    },
    {
      "cell_type": "code",
      "metadata": {
        "colab": {
          "base_uri": "https://localhost:8080/"
        },
        "id": "T_21BiUub-03",
        "outputId": "899d16db-7eaa-4caa-ab9c-37a7cd8fdcf3"
      },
      "source": [
        "model.summary()"
      ],
      "execution_count": 73,
      "outputs": [
        {
          "output_type": "stream",
          "text": [
            "Model: \"sequential_2\"\n",
            "_________________________________________________________________\n",
            "Layer (type)                 Output Shape              Param #   \n",
            "=================================================================\n",
            "dense_6 (Dense)              (None, 32)                25120     \n",
            "_________________________________________________________________\n",
            "dense_7 (Dense)              (None, 64)                2112      \n",
            "_________________________________________________________________\n",
            "dense_8 (Dense)              (None, 10)                650       \n",
            "=================================================================\n",
            "Total params: 27,882\n",
            "Trainable params: 27,882\n",
            "Non-trainable params: 0\n",
            "_________________________________________________________________\n"
          ],
          "name": "stdout"
        }
      ]
    },
    {
      "cell_type": "code",
      "metadata": {
        "colab": {
          "base_uri": "https://localhost:8080/"
        },
        "id": "A_t22YUxcGLF",
        "outputId": "c285cf68-0315-4196-d8e6-26c9922f0b33"
      },
      "source": [
        "model.fit(X_train, y_train, validation_split=0.2, epochs = 10, batch_size=100)"
      ],
      "execution_count": 74,
      "outputs": [
        {
          "output_type": "stream",
          "text": [
            "Epoch 1/10\n",
            "480/480 [==============================] - 2s 3ms/step - loss: 0.8608 - accuracy: 0.7423 - val_loss: 0.2339 - val_accuracy: 0.9326\n",
            "Epoch 2/10\n",
            "480/480 [==============================] - 1s 3ms/step - loss: 0.2265 - accuracy: 0.9345 - val_loss: 0.1865 - val_accuracy: 0.9486\n",
            "Epoch 3/10\n",
            "480/480 [==============================] - 1s 3ms/step - loss: 0.1722 - accuracy: 0.9491 - val_loss: 0.1601 - val_accuracy: 0.9531\n",
            "Epoch 4/10\n",
            "480/480 [==============================] - 1s 3ms/step - loss: 0.1473 - accuracy: 0.9568 - val_loss: 0.1397 - val_accuracy: 0.9588\n",
            "Epoch 5/10\n",
            "480/480 [==============================] - 1s 3ms/step - loss: 0.1217 - accuracy: 0.9641 - val_loss: 0.1399 - val_accuracy: 0.9587\n",
            "Epoch 6/10\n",
            "480/480 [==============================] - 1s 2ms/step - loss: 0.1070 - accuracy: 0.9682 - val_loss: 0.1429 - val_accuracy: 0.9571\n",
            "Epoch 7/10\n",
            "480/480 [==============================] - 1s 3ms/step - loss: 0.0961 - accuracy: 0.9714 - val_loss: 0.1219 - val_accuracy: 0.9648\n",
            "Epoch 8/10\n",
            "480/480 [==============================] - 1s 2ms/step - loss: 0.0913 - accuracy: 0.9723 - val_loss: 0.1182 - val_accuracy: 0.9663\n",
            "Epoch 9/10\n",
            "480/480 [==============================] - 1s 3ms/step - loss: 0.0767 - accuracy: 0.9772 - val_loss: 0.1126 - val_accuracy: 0.9679\n",
            "Epoch 10/10\n",
            "480/480 [==============================] - 1s 2ms/step - loss: 0.0734 - accuracy: 0.9783 - val_loss: 0.1180 - val_accuracy: 0.9653\n"
          ],
          "name": "stdout"
        },
        {
          "output_type": "execute_result",
          "data": {
            "text/plain": [
              "<keras.callbacks.History at 0x7f77ed6fe090>"
            ]
          },
          "metadata": {
            "tags": []
          },
          "execution_count": 74
        }
      ]
    },
    {
      "cell_type": "code",
      "metadata": {
        "colab": {
          "base_uri": "https://localhost:8080/"
        },
        "id": "Ty5CkIt-cq8O",
        "outputId": "c7ae0835-5c62-4ff1-e724-b9a086bb2898"
      },
      "source": [
        "scores = model.evaluate(X_test, y_test)"
      ],
      "execution_count": 75,
      "outputs": [
        {
          "output_type": "stream",
          "text": [
            "313/313 [==============================] - 1s 2ms/step - loss: 0.1094 - accuracy: 0.9686\n"
          ],
          "name": "stdout"
        }
      ]
    },
    {
      "cell_type": "code",
      "metadata": {
        "colab": {
          "base_uri": "https://localhost:8080/"
        },
        "id": "SmewJdyqdD_P",
        "outputId": "bf5d135e-6be9-4293-a295-10ed04ac7ff2"
      },
      "source": [
        "scores"
      ],
      "execution_count": 76,
      "outputs": [
        {
          "output_type": "execute_result",
          "data": {
            "text/plain": [
              "[0.10941653698682785, 0.9685999751091003]"
            ]
          },
          "metadata": {
            "tags": []
          },
          "execution_count": 76
        }
      ]
    },
    {
      "cell_type": "code",
      "metadata": {
        "id": "2OSZi0P3dJBR"
      },
      "source": [
        ""
      ],
      "execution_count": 76,
      "outputs": []
    }
  ]
}